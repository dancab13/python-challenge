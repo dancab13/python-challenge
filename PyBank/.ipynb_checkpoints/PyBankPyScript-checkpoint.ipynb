{
 "cells": [
  {
   "cell_type": "code",
   "execution_count": 8,
   "id": "c08c8f74",
   "metadata": {},
   "outputs": [],
   "source": [
    "# PyBank Module 3 Challenge\n",
    "# In this Challenge, you are tasked with creating a Python script to analyze the financial records of your company. \n",
    "# You will be given a financial dataset called budget_data.csv. \n",
    "# The dataset is composed of two columns: \"Date\" and \"Profit/Losses\".\n",
    "\n",
    "# Your task is to create a Python script that analyzes the records to calculate each of the following values:\n",
    "\n",
    "    # The total number of months included in the dataset\n",
    "\n",
    "    # The net total amount of \"Profit/Losses\" over the entire period\n",
    "\n",
    "    # The changes in \"Profit/Losses\" over the entire period, and then the average of those changes\n",
    "\n",
    "    # The greatest increase in profits (date and amount) over the entire period\n",
    "\n",
    "    # The greatest decrease in profits (date and amount) over the entire period"
   ]
  },
  {
   "cell_type": "code",
   "execution_count": 11,
   "id": "b0f9459f",
   "metadata": {},
   "outputs": [],
   "source": [
    "# Import the standard modules\n",
    "\n",
    "import os\n",
    "import csv"
   ]
  },
  {
   "cell_type": "code",
   "execution_count": 15,
   "id": "47a8cffa",
   "metadata": {},
   "outputs": [],
   "source": [
    "# Import the csv file and make sure Python can read it using the csv library or module.\n",
    "\n",
    "bank = os.path.join('Resources', 'budget_data.csv')"
   ]
  },
  {
   "cell_type": "code",
   "execution_count": 17,
   "id": "4fb3dcbe",
   "metadata": {},
   "outputs": [],
   "source": [
    "with open(bank) as csvfile:\n",
    "\n",
    "    # Initiatlize the csv file and define it\n",
    "    budget = csv.reader(csvfile, delimiter=',')\n",
    "\n",
    "    # Store the header row \n",
    "    csv_header = next(budget)\n",
    "    \n",
    "    "
   ]
  }
 ],
 "metadata": {
  "kernelspec": {
   "display_name": "Python 3 (ipykernel)",
   "language": "python",
   "name": "python3"
  },
  "language_info": {
   "codemirror_mode": {
    "name": "ipython",
    "version": 3
   },
   "file_extension": ".py",
   "mimetype": "text/x-python",
   "name": "python",
   "nbconvert_exporter": "python",
   "pygments_lexer": "ipython3",
   "version": "3.10.13"
  }
 },
 "nbformat": 4,
 "nbformat_minor": 5
}
